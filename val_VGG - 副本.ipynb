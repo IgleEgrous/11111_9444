{
 "cells": [
  {
   "cell_type": "code",
   "execution_count": 20,
   "id": "5aeb39ef-a338-4c5e-99c7-435a0aac31d0",
   "metadata": {},
   "outputs": [],
   "source": [
    "import os\n",
    "import torch\n",
    "import torch.nn as nn\n",
    "from torchvision import datasets, transforms, models\n",
    "from sklearn.metrics import (\n",
    "    accuracy_score,\n",
    "    precision_score,\n",
    "    recall_score,\n",
    "    f1_score,\n",
    "    roc_auc_score,\n",
    "    confusion_matrix\n",
    ")\n",
    "from torchvision.models import AlexNet_Weights"
   ]
  },
  {
   "cell_type": "code",
   "execution_count": 18,
   "id": "50b7d546-cbac-4cf2-a8f4-87d8e9c8dac0",
   "metadata": {},
   "outputs": [],
   "source": [
    "def validate_model(model_name, model_path, val_path):\n",
    "    # Hardware configuration\n",
    "    device = torch.device(\"cuda\" if torch.cuda.is_available() else \"cpu\")\n",
    "    print(f\"Using device: {device}\")\n",
    "\n",
    "    # Validation data configuration\n",
    "    val_dir = val_path\n",
    "    if not os.path.exists(val_dir):\n",
    "        raise FileNotFoundError(f\"Validation directory not found: {val_dir}\")\n",
    "\n",
    "    # Validation transforms\n",
    "    val_transform = transforms.Compose([\n",
    "        transforms.Resize((224, 224)),\n",
    "        transforms.ToTensor(),\n",
    "        transforms.Normalize(mean=[0.485, 0.456, 0.406],\n",
    "                             std=[0.229, 0.224, 0.225])\n",
    "    ])\n",
    "\n",
    "    # Create dataset and loader\n",
    "    val_dataset = datasets.ImageFolder(val_dir, transform=val_transform)\n",
    "    val_loader = torch.utils.data.DataLoader(\n",
    "        val_dataset,\n",
    "        batch_size=32,\n",
    "        shuffle=False,\n",
    "        num_workers=4,\n",
    "        pin_memory=True\n",
    "    )\n",
    "\n",
    "    # Model initialization\n",
    "    match model_name:\n",
    "        case 'alexnet':\n",
    "            model = models.alexnet(weights=AlexNet_Weights.IMAGENET1K_V1)\n",
    "    match model_name:\n",
    "        case 'densenet':\n",
    "            model = models.densenet(pretrained=True)\n",
    "    match model_name:\n",
    "        case 'googlenet':\n",
    "            model = models.googlenet(pretrained=True)\n",
    "    match model_name:\n",
    "        case 'resnet50':\n",
    "            model = models.resnet50(pretrained=True)\n",
    "    match model_name:\n",
    "        case 'mobilenet':\n",
    "            model = models.mobilenet(pretrained=True)\n",
    "    match model_name:\n",
    "        case 'improved':\n",
    "            model = models.vgg16(weights=models.VGG16_Weights.IMAGENET1K_V1)\n",
    "\n",
    "    \n",
    "    # Freeze feature parameters\n",
    "    # for param in model.features.parameters():\n",
    "    #     param.requires_grad = False\n",
    "    \n",
    "    # Modify classifier\n",
    "    num_classes = len(val_dataset.classes)\n",
    "    model.classifier[6] = nn.Linear(model.classifier[6].in_features, num_classes)\n",
    "    \n",
    "    # Load trained weights\n",
    "    model_path = model_path\n",
    "    model.load_state_dict(torch.load(model_path, map_location=device))\n",
    "    model = model.to(device)\n",
    "    model.eval()\n",
    "\n",
    "    # Initialize metrics\n",
    "    all_preds = []\n",
    "    all_labels = []\n",
    "    all_probs = []\n",
    "    running_corrects = 0\n",
    "\n",
    "    # Validation loop\n",
    "    with torch.no_grad():\n",
    "        for inputs, labels in val_loader:\n",
    "            inputs = inputs.to(device)\n",
    "            labels = labels.to(device)\n",
    "            \n",
    "            outputs = model(inputs)\n",
    "            probs = torch.softmax(outputs, dim=1)  # Get class probabilities\n",
    "            \n",
    "            _, preds = torch.max(outputs, 1)\n",
    "            \n",
    "            running_corrects += torch.sum(preds == labels.data)\n",
    "            all_preds.extend(preds.cpu().numpy())\n",
    "            all_labels.extend(labels.cpu().numpy())\n",
    "            all_probs.extend(probs.cpu().numpy())\n",
    "\n",
    "    # Calculate metrics\n",
    "    val_acc = running_corrects.double() / len(val_dataset)\n",
    "    sk_acc = accuracy_score(all_labels, all_preds)\n",
    "    val_precision = precision_score(all_labels, all_preds, average='macro')\n",
    "    val_recall = recall_score(all_labels, all_preds, average='macro')\n",
    "    val_f1 = f1_score(all_labels, all_preds, average='macro')\n",
    "    val_roc_auc = roc_auc_score(all_labels, all_probs, multi_class='ovr', average='macro')\n",
    "    cm = confusion_matrix(all_labels, all_preds)\n",
    "\n",
    "    # Print comprehensive results\n",
    "    print(f\"\\nValidation Metrics:\")\n",
    "    print(f\"Manual Accuracy: {val_acc:.4f}\")\n",
    "    print(f\"Sklearn Accuracy: {sk_acc:.4f}\")\n",
    "    print(f\"Precision: {val_precision:.4f}\")\n",
    "    print(f\"Recall: {val_recall:.4f}\")\n",
    "    print(f\"F1-Score: {val_f1:.4f}\")\n",
    "    print(f\"ROC-AUC: {val_roc_auc:.4f}\")\n",
    "    print(\"\\nConfusion Matrix:\")\n",
    "    print(cm)"
   ]
  },
  {
   "cell_type": "code",
   "execution_count": 21,
   "id": "9abc5b07-c4dd-4196-9194-40bd330310f5",
   "metadata": {},
   "outputs": [
    {
     "name": "stdout",
     "output_type": "stream",
     "text": [
      "Using device: cuda\n",
      "\n",
      "Validation Metrics:\n",
      "Manual Accuracy: 0.8781\n",
      "Sklearn Accuracy: 0.8781\n",
      "Precision: 0.8544\n",
      "Recall: 0.7197\n",
      "F1-Score: 0.7539\n",
      "ROC-AUC: 0.9751\n",
      "\n",
      "Confusion Matrix:\n",
      "[[112   1   6   0   0]\n",
      " [  5   8   7   0   0]\n",
      " [  2   0  85   1   3]\n",
      " [  0   0   0   4   6]\n",
      " [  1   0   2   0  36]]\n"
     ]
    }
   ],
   "source": [
    "# alexnet\n",
    "if __name__ == \"__main__\":\n",
    "    validate_model('alexnet', '../model/9444/alexnet_EBHI_mag_200.pth', '../EBH-HE-IDS/ColHis-IDS_split/test/200')"
   ]
  },
  {
   "cell_type": "code",
   "execution_count": 15,
   "id": "10a37f99-b4cb-479f-8bfd-e757e8ac21e5",
   "metadata": {},
   "outputs": [
    {
     "name": "stdout",
     "output_type": "stream",
     "text": [
      "Using device: cuda\n"
     ]
    },
    {
     "ename": "TypeError",
     "evalue": "'module' object is not callable",
     "output_type": "error",
     "traceback": [
      "\u001b[1;31m---------------------------------------------------------------------------\u001b[0m",
      "\u001b[1;31mTypeError\u001b[0m                                 Traceback (most recent call last)",
      "Cell \u001b[1;32mIn[15], line 3\u001b[0m\n\u001b[0;32m      1\u001b[0m \u001b[38;5;66;03m# densenet\u001b[39;00m\n\u001b[0;32m      2\u001b[0m \u001b[38;5;28;01mif\u001b[39;00m \u001b[38;5;18m__name__\u001b[39m \u001b[38;5;241m==\u001b[39m \u001b[38;5;124m\"\u001b[39m\u001b[38;5;124m__main__\u001b[39m\u001b[38;5;124m\"\u001b[39m:\n\u001b[1;32m----> 3\u001b[0m     validate_model(\u001b[38;5;124m'\u001b[39m\u001b[38;5;124mdensenet\u001b[39m\u001b[38;5;124m'\u001b[39m, \u001b[38;5;124m'\u001b[39m\u001b[38;5;124m../model/9444/densenet161_EBHI_mag_200.pth\u001b[39m\u001b[38;5;124m'\u001b[39m, \u001b[38;5;124m'\u001b[39m\u001b[38;5;124m../EBH-HE-IDS/ColHis-IDS_split/test/200\u001b[39m\u001b[38;5;124m'\u001b[39m)\n",
      "Cell \u001b[1;32mIn[13], line 35\u001b[0m, in \u001b[0;36mvalidate_model\u001b[1;34m(model_name, model_path, val_path)\u001b[0m\n\u001b[0;32m     29\u001b[0m \u001b[38;5;66;03m# Model initialization\u001b[39;00m\n\u001b[0;32m     30\u001b[0m \u001b[38;5;28;01mmatch\u001b[39;00m model_name:\n\u001b[0;32m     31\u001b[0m     \u001b[38;5;28;01mcase\u001b[39;00m \u001b[38;5;124m'\u001b[39m\u001b[38;5;124malexnet\u001b[39m\u001b[38;5;124m'\u001b[39m:\n\u001b[0;32m     32\u001b[0m         model \u001b[38;5;241m=\u001b[39m models\u001b[38;5;241m.\u001b[39malexnet(pretrained\u001b[38;5;241m=\u001b[39m\u001b[38;5;28;01mTrue\u001b[39;00m)\n\u001b[0;32m     33\u001b[0m \u001b[38;5;28;01mmatch\u001b[39;00m model_name:\n\u001b[0;32m     34\u001b[0m     \u001b[38;5;28;01mcase\u001b[39;00m \u001b[38;5;124m'\u001b[39m\u001b[38;5;124mdensenet\u001b[39m\u001b[38;5;124m'\u001b[39m:\n\u001b[1;32m---> 35\u001b[0m         model \u001b[38;5;241m=\u001b[39m models\u001b[38;5;241m.\u001b[39mdensenet(pretrained\u001b[38;5;241m=\u001b[39m\u001b[38;5;28;01mTrue\u001b[39;00m)\n\u001b[0;32m     36\u001b[0m \u001b[38;5;28;01mmatch\u001b[39;00m model_name:\n\u001b[0;32m     37\u001b[0m     \u001b[38;5;28;01mcase\u001b[39;00m \u001b[38;5;124m'\u001b[39m\u001b[38;5;124mgooglenet\u001b[39m\u001b[38;5;124m'\u001b[39m:\n\u001b[0;32m     38\u001b[0m         model \u001b[38;5;241m=\u001b[39m models\u001b[38;5;241m.\u001b[39mgooglenet(pretrained\u001b[38;5;241m=\u001b[39m\u001b[38;5;28;01mTrue\u001b[39;00m)\n\u001b[0;32m     39\u001b[0m \u001b[38;5;28;01mmatch\u001b[39;00m model_name:\n\u001b[0;32m     40\u001b[0m     \u001b[38;5;28;01mcase\u001b[39;00m \u001b[38;5;124m'\u001b[39m\u001b[38;5;124mresnet50\u001b[39m\u001b[38;5;124m'\u001b[39m:\n\u001b[0;32m     41\u001b[0m         model \u001b[38;5;241m=\u001b[39m models\u001b[38;5;241m.\u001b[39mresnet50(pretrained\u001b[38;5;241m=\u001b[39m\u001b[38;5;28;01mTrue\u001b[39;00m)\n",
      "\u001b[1;31mTypeError\u001b[0m: 'module' object is not callable"
     ]
    }
   ],
   "source": [
    "# densenet\n",
    "if __name__ == \"__main__\":\n",
    "    validate_model('densenet', '../model/9444/densenet161_EBHI_mag_200.pth', '../EBH-HE-IDS/ColHis-IDS_split/test/200')"
   ]
  },
  {
   "cell_type": "code",
   "execution_count": 16,
   "id": "00c24249-ec28-4737-a498-547842b811e8",
   "metadata": {},
   "outputs": [
    {
     "name": "stdout",
     "output_type": "stream",
     "text": [
      "Using device: cuda\n",
      "Downloading: \"https://download.pytorch.org/models/googlenet-1378be20.pth\" to C:\\Users\\99320/.cache\\torch\\hub\\checkpoints\\googlenet-1378be20.pth\n"
     ]
    },
    {
     "name": "stderr",
     "output_type": "stream",
     "text": [
      "D:\\Environment\\Anaconda\\envs\\UNSW\\Lib\\site-packages\\torchvision\\models\\_utils.py:223: UserWarning: Arguments other than a weight enum or `None` for 'weights' are deprecated since 0.13 and may be removed in the future. The current behavior is equivalent to passing `weights=GoogLeNet_Weights.IMAGENET1K_V1`. You can also use `weights=GoogLeNet_Weights.DEFAULT` to get the most up-to-date weights.\n",
      "  warnings.warn(msg)\n",
      "100.0%\n"
     ]
    },
    {
     "ename": "AttributeError",
     "evalue": "'GoogLeNet' object has no attribute 'classifier'",
     "output_type": "error",
     "traceback": [
      "\u001b[1;31m---------------------------------------------------------------------------\u001b[0m",
      "\u001b[1;31mAttributeError\u001b[0m                            Traceback (most recent call last)",
      "Cell \u001b[1;32mIn[16], line 3\u001b[0m\n\u001b[0;32m      1\u001b[0m \u001b[38;5;66;03m# googlenet\u001b[39;00m\n\u001b[0;32m      2\u001b[0m \u001b[38;5;28;01mif\u001b[39;00m \u001b[38;5;18m__name__\u001b[39m \u001b[38;5;241m==\u001b[39m \u001b[38;5;124m\"\u001b[39m\u001b[38;5;124m__main__\u001b[39m\u001b[38;5;124m\"\u001b[39m:\n\u001b[1;32m----> 3\u001b[0m     validate_model(\u001b[38;5;124m'\u001b[39m\u001b[38;5;124mgooglenet\u001b[39m\u001b[38;5;124m'\u001b[39m, \u001b[38;5;124m'\u001b[39m\u001b[38;5;124m../model/9444/googlenet_EBHI_mag_200.pth\u001b[39m\u001b[38;5;124m'\u001b[39m, \u001b[38;5;124m'\u001b[39m\u001b[38;5;124m../EBH-HE-IDS/ColHis-IDS_split/test/200\u001b[39m\u001b[38;5;124m'\u001b[39m)\n",
      "Cell \u001b[1;32mIn[13], line 56\u001b[0m, in \u001b[0;36mvalidate_model\u001b[1;34m(model_name, model_path, val_path)\u001b[0m\n\u001b[0;32m     50\u001b[0m \u001b[38;5;66;03m# Freeze feature parameters\u001b[39;00m\n\u001b[0;32m     51\u001b[0m \u001b[38;5;66;03m# for param in model.features.parameters():\u001b[39;00m\n\u001b[0;32m     52\u001b[0m \u001b[38;5;66;03m#     param.requires_grad = False\u001b[39;00m\n\u001b[0;32m     53\u001b[0m \n\u001b[0;32m     54\u001b[0m \u001b[38;5;66;03m# Modify classifier\u001b[39;00m\n\u001b[0;32m     55\u001b[0m num_classes \u001b[38;5;241m=\u001b[39m \u001b[38;5;28mlen\u001b[39m(val_dataset\u001b[38;5;241m.\u001b[39mclasses)\n\u001b[1;32m---> 56\u001b[0m model\u001b[38;5;241m.\u001b[39mclassifier[\u001b[38;5;241m6\u001b[39m] \u001b[38;5;241m=\u001b[39m nn\u001b[38;5;241m.\u001b[39mLinear(model\u001b[38;5;241m.\u001b[39mclassifier[\u001b[38;5;241m6\u001b[39m]\u001b[38;5;241m.\u001b[39min_features, num_classes)\n\u001b[0;32m     58\u001b[0m \u001b[38;5;66;03m# Load trained weights\u001b[39;00m\n\u001b[0;32m     59\u001b[0m model_path \u001b[38;5;241m=\u001b[39m model_path\n",
      "File \u001b[1;32mD:\\Environment\\Anaconda\\envs\\UNSW\\Lib\\site-packages\\torch\\nn\\modules\\module.py:1940\u001b[0m, in \u001b[0;36mModule.__getattr__\u001b[1;34m(self, name)\u001b[0m\n\u001b[0;32m   1938\u001b[0m     \u001b[38;5;28;01mif\u001b[39;00m name \u001b[38;5;129;01min\u001b[39;00m modules:\n\u001b[0;32m   1939\u001b[0m         \u001b[38;5;28;01mreturn\u001b[39;00m modules[name]\n\u001b[1;32m-> 1940\u001b[0m \u001b[38;5;28;01mraise\u001b[39;00m \u001b[38;5;167;01mAttributeError\u001b[39;00m(\n\u001b[0;32m   1941\u001b[0m     \u001b[38;5;124mf\u001b[39m\u001b[38;5;124m\"\u001b[39m\u001b[38;5;124m'\u001b[39m\u001b[38;5;132;01m{\u001b[39;00m\u001b[38;5;28mtype\u001b[39m(\u001b[38;5;28mself\u001b[39m)\u001b[38;5;241m.\u001b[39m\u001b[38;5;18m__name__\u001b[39m\u001b[38;5;132;01m}\u001b[39;00m\u001b[38;5;124m'\u001b[39m\u001b[38;5;124m object has no attribute \u001b[39m\u001b[38;5;124m'\u001b[39m\u001b[38;5;132;01m{\u001b[39;00mname\u001b[38;5;132;01m}\u001b[39;00m\u001b[38;5;124m'\u001b[39m\u001b[38;5;124m\"\u001b[39m\n\u001b[0;32m   1942\u001b[0m )\n",
      "\u001b[1;31mAttributeError\u001b[0m: 'GoogLeNet' object has no attribute 'classifier'"
     ]
    }
   ],
   "source": [
    "# googlenet\n",
    "if __name__ == \"__main__\":\n",
    "    validate_model('googlenet', '../model/9444/googlenet_EBHI_mag_200.pth', '../EBH-HE-IDS/ColHis-IDS_split/test/200')"
   ]
  },
  {
   "cell_type": "code",
   "execution_count": 12,
   "id": "d60431f1-6d5f-4562-9d27-38ad8a37c92b",
   "metadata": {},
   "outputs": [
    {
     "name": "stdout",
     "output_type": "stream",
     "text": [
      "Using device: cuda\n"
     ]
    },
    {
     "name": "stderr",
     "output_type": "stream",
     "text": [
      "D:\\Environment\\Anaconda\\envs\\UNSW\\Lib\\site-packages\\torchvision\\models\\_utils.py:208: UserWarning: The parameter 'pretrained' is deprecated since 0.13 and may be removed in the future, please use 'weights' instead.\n",
      "  warnings.warn(\n",
      "D:\\Environment\\Anaconda\\envs\\UNSW\\Lib\\site-packages\\torchvision\\models\\_utils.py:223: UserWarning: Arguments other than a weight enum or `None` for 'weights' are deprecated since 0.13 and may be removed in the future. The current behavior is equivalent to passing `weights=ResNet50_Weights.IMAGENET1K_V1`. You can also use `weights=ResNet50_Weights.DEFAULT` to get the most up-to-date weights.\n",
      "  warnings.warn(msg)\n"
     ]
    },
    {
     "ename": "AttributeError",
     "evalue": "'ResNet' object has no attribute 'classifier'",
     "output_type": "error",
     "traceback": [
      "\u001b[1;31m---------------------------------------------------------------------------\u001b[0m",
      "\u001b[1;31mAttributeError\u001b[0m                            Traceback (most recent call last)",
      "Cell \u001b[1;32mIn[12], line 3\u001b[0m\n\u001b[0;32m      1\u001b[0m \u001b[38;5;66;03m# resnet50\u001b[39;00m\n\u001b[0;32m      2\u001b[0m \u001b[38;5;28;01mif\u001b[39;00m \u001b[38;5;18m__name__\u001b[39m \u001b[38;5;241m==\u001b[39m \u001b[38;5;124m\"\u001b[39m\u001b[38;5;124m__main__\u001b[39m\u001b[38;5;124m\"\u001b[39m:\n\u001b[1;32m----> 3\u001b[0m     validate_model(\u001b[38;5;124m'\u001b[39m\u001b[38;5;124mresnet50\u001b[39m\u001b[38;5;124m'\u001b[39m, \u001b[38;5;124m'\u001b[39m\u001b[38;5;124m../model/9444/resnet50_EBHI_mag_200.pth\u001b[39m\u001b[38;5;124m'\u001b[39m, \u001b[38;5;124m'\u001b[39m\u001b[38;5;124m../EBH-HE-IDS/ColHis-IDS_split/test/200\u001b[39m\u001b[38;5;124m'\u001b[39m)\n",
      "Cell \u001b[1;32mIn[10], line 56\u001b[0m, in \u001b[0;36mvalidate_model\u001b[1;34m(model_name, model_path, val_path)\u001b[0m\n\u001b[0;32m     50\u001b[0m \u001b[38;5;66;03m# Freeze feature parameters\u001b[39;00m\n\u001b[0;32m     51\u001b[0m \u001b[38;5;66;03m# for param in model.features.parameters():\u001b[39;00m\n\u001b[0;32m     52\u001b[0m \u001b[38;5;66;03m#     param.requires_grad = False\u001b[39;00m\n\u001b[0;32m     53\u001b[0m \n\u001b[0;32m     54\u001b[0m \u001b[38;5;66;03m# Modify classifier\u001b[39;00m\n\u001b[0;32m     55\u001b[0m num_classes \u001b[38;5;241m=\u001b[39m \u001b[38;5;28mlen\u001b[39m(val_dataset\u001b[38;5;241m.\u001b[39mclasses)\n\u001b[1;32m---> 56\u001b[0m model\u001b[38;5;241m.\u001b[39mclassifier[\u001b[38;5;241m6\u001b[39m] \u001b[38;5;241m=\u001b[39m nn\u001b[38;5;241m.\u001b[39mLinear(model\u001b[38;5;241m.\u001b[39mclassifier[\u001b[38;5;241m6\u001b[39m]\u001b[38;5;241m.\u001b[39min_features, num_classes)\n\u001b[0;32m     58\u001b[0m \u001b[38;5;66;03m# Load trained weights\u001b[39;00m\n\u001b[0;32m     59\u001b[0m model_path \u001b[38;5;241m=\u001b[39m model_path\n",
      "File \u001b[1;32mD:\\Environment\\Anaconda\\envs\\UNSW\\Lib\\site-packages\\torch\\nn\\modules\\module.py:1940\u001b[0m, in \u001b[0;36mModule.__getattr__\u001b[1;34m(self, name)\u001b[0m\n\u001b[0;32m   1938\u001b[0m     \u001b[38;5;28;01mif\u001b[39;00m name \u001b[38;5;129;01min\u001b[39;00m modules:\n\u001b[0;32m   1939\u001b[0m         \u001b[38;5;28;01mreturn\u001b[39;00m modules[name]\n\u001b[1;32m-> 1940\u001b[0m \u001b[38;5;28;01mraise\u001b[39;00m \u001b[38;5;167;01mAttributeError\u001b[39;00m(\n\u001b[0;32m   1941\u001b[0m     \u001b[38;5;124mf\u001b[39m\u001b[38;5;124m\"\u001b[39m\u001b[38;5;124m'\u001b[39m\u001b[38;5;132;01m{\u001b[39;00m\u001b[38;5;28mtype\u001b[39m(\u001b[38;5;28mself\u001b[39m)\u001b[38;5;241m.\u001b[39m\u001b[38;5;18m__name__\u001b[39m\u001b[38;5;132;01m}\u001b[39;00m\u001b[38;5;124m'\u001b[39m\u001b[38;5;124m object has no attribute \u001b[39m\u001b[38;5;124m'\u001b[39m\u001b[38;5;132;01m{\u001b[39;00mname\u001b[38;5;132;01m}\u001b[39;00m\u001b[38;5;124m'\u001b[39m\u001b[38;5;124m\"\u001b[39m\n\u001b[0;32m   1942\u001b[0m )\n",
      "\u001b[1;31mAttributeError\u001b[0m: 'ResNet' object has no attribute 'classifier'"
     ]
    }
   ],
   "source": [
    "# resnet50\n",
    "if __name__ == \"__main__\":\n",
    "    validate_model('resnet50', '../model/9444/resnet50_EBHI_mag_200.pth', '../EBH-HE-IDS/ColHis-IDS_split/test/200')"
   ]
  },
  {
   "cell_type": "code",
   "execution_count": 17,
   "id": "7755a2a7-2ddc-4b6c-92a7-0b15524f878c",
   "metadata": {},
   "outputs": [
    {
     "name": "stdout",
     "output_type": "stream",
     "text": [
      "Using device: cuda\n"
     ]
    },
    {
     "ename": "TypeError",
     "evalue": "'module' object is not callable",
     "output_type": "error",
     "traceback": [
      "\u001b[1;31m---------------------------------------------------------------------------\u001b[0m",
      "\u001b[1;31mTypeError\u001b[0m                                 Traceback (most recent call last)",
      "Cell \u001b[1;32mIn[17], line 3\u001b[0m\n\u001b[0;32m      1\u001b[0m \u001b[38;5;66;03m# mobilenet\u001b[39;00m\n\u001b[0;32m      2\u001b[0m \u001b[38;5;28;01mif\u001b[39;00m \u001b[38;5;18m__name__\u001b[39m \u001b[38;5;241m==\u001b[39m \u001b[38;5;124m\"\u001b[39m\u001b[38;5;124m__main__\u001b[39m\u001b[38;5;124m\"\u001b[39m:\n\u001b[1;32m----> 3\u001b[0m     validate_model(\u001b[38;5;124m'\u001b[39m\u001b[38;5;124mmobilenet\u001b[39m\u001b[38;5;124m'\u001b[39m, \u001b[38;5;124m'\u001b[39m\u001b[38;5;124m../model/9444/mobilenet_EBHI_mag_200.pth\u001b[39m\u001b[38;5;124m'\u001b[39m, \u001b[38;5;124m'\u001b[39m\u001b[38;5;124m../EBH-HE-IDS/ColHis-IDS_split/test/200\u001b[39m\u001b[38;5;124m'\u001b[39m)\n",
      "Cell \u001b[1;32mIn[13], line 44\u001b[0m, in \u001b[0;36mvalidate_model\u001b[1;34m(model_name, model_path, val_path)\u001b[0m\n\u001b[0;32m     36\u001b[0m \u001b[38;5;28;01mmatch\u001b[39;00m model_name:\n\u001b[0;32m     37\u001b[0m     \u001b[38;5;28;01mcase\u001b[39;00m \u001b[38;5;124m'\u001b[39m\u001b[38;5;124mgooglenet\u001b[39m\u001b[38;5;124m'\u001b[39m:\n\u001b[0;32m     38\u001b[0m         model \u001b[38;5;241m=\u001b[39m models\u001b[38;5;241m.\u001b[39mgooglenet(pretrained\u001b[38;5;241m=\u001b[39m\u001b[38;5;28;01mTrue\u001b[39;00m)\n\u001b[0;32m     39\u001b[0m \u001b[38;5;28;01mmatch\u001b[39;00m model_name:\n\u001b[0;32m     40\u001b[0m     \u001b[38;5;28;01mcase\u001b[39;00m \u001b[38;5;124m'\u001b[39m\u001b[38;5;124mresnet50\u001b[39m\u001b[38;5;124m'\u001b[39m:\n\u001b[0;32m     41\u001b[0m         model \u001b[38;5;241m=\u001b[39m models\u001b[38;5;241m.\u001b[39mresnet50(pretrained\u001b[38;5;241m=\u001b[39m\u001b[38;5;28;01mTrue\u001b[39;00m)\n\u001b[0;32m     42\u001b[0m \u001b[38;5;28;01mmatch\u001b[39;00m model_name:\n\u001b[0;32m     43\u001b[0m     \u001b[38;5;28;01mcase\u001b[39;00m \u001b[38;5;124m'\u001b[39m\u001b[38;5;124mmobilenet\u001b[39m\u001b[38;5;124m'\u001b[39m:\n\u001b[1;32m---> 44\u001b[0m         model \u001b[38;5;241m=\u001b[39m models\u001b[38;5;241m.\u001b[39mmobilenet(pretrained\u001b[38;5;241m=\u001b[39m\u001b[38;5;28;01mTrue\u001b[39;00m)\n\u001b[0;32m     45\u001b[0m \u001b[38;5;28;01mmatch\u001b[39;00m model_name:\n\u001b[0;32m     46\u001b[0m     \u001b[38;5;28;01mcase\u001b[39;00m \u001b[38;5;124m'\u001b[39m\u001b[38;5;124mimproved\u001b[39m\u001b[38;5;124m'\u001b[39m:\n\u001b[0;32m     47\u001b[0m         model \u001b[38;5;241m=\u001b[39m models\u001b[38;5;241m.\u001b[39mvgg16(weights\u001b[38;5;241m=\u001b[39mmodels\u001b[38;5;241m.\u001b[39mVGG16_Weights\u001b[38;5;241m.\u001b[39mIMAGENET1K_V1)\n\u001b[0;32m     50\u001b[0m \u001b[38;5;66;03m# Freeze feature parameters\u001b[39;00m\n\u001b[0;32m     51\u001b[0m \u001b[38;5;66;03m# for param in model.features.parameters():\u001b[39;00m\n\u001b[0;32m     52\u001b[0m \u001b[38;5;66;03m#     param.requires_grad = False\u001b[39;00m\n\u001b[0;32m     53\u001b[0m \n\u001b[0;32m     54\u001b[0m \u001b[38;5;66;03m# Modify classifier\u001b[39;00m\n",
      "\u001b[1;31mTypeError\u001b[0m: 'module' object is not callable"
     ]
    }
   ],
   "source": [
    "# mobilenet\n",
    "if __name__ == \"__main__\":\n",
    "    validate_model('mobilenet', '../model/9444/mobilenet_EBHI_mag_200.pth', '../EBH-HE-IDS/ColHis-IDS_split/test/200')"
   ]
  },
  {
   "cell_type": "code",
   "execution_count": null,
   "id": "be509053-cb19-4421-b240-133e4b2b2f45",
   "metadata": {},
   "outputs": [],
   "source": [
    "# improved\n",
    "if __name__ == \"__main__\":\n",
    "    validate_model('../model/9444/improved_EBHI_mag_200.pth', '../EBH-HE-IDS/ColHis-IDS_split/test/200')"
   ]
  }
 ],
 "metadata": {
  "kernelspec": {
   "display_name": "Python 3 (ipykernel)",
   "language": "python",
   "name": "python3"
  },
  "language_info": {
   "codemirror_mode": {
    "name": "ipython",
    "version": 3
   },
   "file_extension": ".py",
   "mimetype": "text/x-python",
   "name": "python",
   "nbconvert_exporter": "python",
   "pygments_lexer": "ipython3",
   "version": "3.11.11"
  }
 },
 "nbformat": 4,
 "nbformat_minor": 5
}
